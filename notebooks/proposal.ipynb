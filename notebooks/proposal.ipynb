{
 "cells": [
  {
   "cell_type": "markdown",
   "metadata": {
    "colab_type": "text",
    "id": "_lV1sfyUNsGx"
   },
   "source": [
    "# Návrh zadania\n",
    "\n",
    "\n",
    "\n",
    "\n",
    "Nami navrhnuté zadanie je v skratke možné definovať nasledujúcimi bodmi:  \n",
    "- Oblasť počítačového videnia využitá na recykláciu odpadu.\n",
    "- Navrhnutý model bude schopný rozpoznávať recyklovateľný odpad a bioodpad.\n",
    "- Budeme pracovať s netriviálnou modalitou, t.j. obrázkovým datasetom.\n",
    "\n",
    "\n",
    "### Autori:\n",
    "> Peter **JURKÁČEK**\n",
    ">\n",
    "> Lenka **PEJCHALOVÁ**\n"
   ]
  },
  {
   "cell_type": "markdown",
   "metadata": {
    "colab_type": "text",
    "id": "PVeYyrfIQOQQ"
   },
   "source": [
    "## Motivácia\n",
    "\n",
    "Zo všetkých strán sa na nás valia informácie o neúmernom množstve odpadu, ktoré ľudstvo denne vyprodukuje [9]. Veľké množstvo tohto odpadu by bolo možné opakovane spracovať a znova využiť. Na to, aby sa odpad mohol znova využiť je však potrebné,  odpad roztriediť. Práve to je najväčším problémom dnešnej doby. Veľké množstvo neroztriedeného odpadu, ktoré je vyvážané na skládky, kde sa postupom času všetky nezdravé látky ohrozujú naše životné prostredie. Separovanie odpadu je jedným z najlepších spôsobov, ako môžeme pomôcť nie len životnému prostrediu, ale zlepšiť aj kvalitu nášho života.\n",
    "\n",
    "Aj keď separovanie odpadu pre človeka nie je žiadna raketová veda, tak je to činnosť, ktorú musí vykonávať manuálne. Podľa [7] môžeme vidieť rastúci trend v separovaní odpadu na Slovensku, kedže v roku 2015 separovalo 14.9% obyvateľov, v roku 2016 23% a v roku 2017 29%. Na druhú stranu, čo sa týka zmiešaného odpadu tak Slovensko sa v jeho produkcii pohybuje okolo 1.7 milióna ton ročne [6].\n",
    "\n",
    "Aby sme podporili rastúci trend separovania na Slovensku a prispeli k zníženiu produkcie zmiešaného odpadu rozhodli sme sa implementovať model, ktorý bude schopný klasifikovať obrázky odpadu pomocou neurónových sietí. \n",
    "Takýto model by mal využitie najmä na skládkach odpadu, kde by mohol vykonávať automatickú separáciu odpadu. Automatická separácia by znamenala zefektívnenie triediaceho procesu a zníženie hygienických rizík, ktorým sú vystavení pracovníci skládky.\n",
    "\n",
    "Navrhnutý model by mal byť schopný klasifikovať odpad z obrázku na dve kategórie, ktorými sú: organický a neorganický (recyklovateľný) odpad. Budeme pracovať s datasetom obsahujúcim približne 23000 obrázkov.\n",
    "\n",
    "V oblasti triedenia odpadu bolo dokázané [2] na dátovej sade cca 2500 obrázkov, že neurónové siete sú vhodným modelom pri automatickej klasifikácií odpadu na plast, sklo, papier, kov a kartón. \n",
    "\n",
    "Nateraz sa nám teda ponúkajú dve otvorené otázky, ktorými sú:\n",
    "\n",
    "- **Q1: Dosiahneme presnosť klasifikácie okolo 90% použitím overených architektúr DenseNet121 alebo InceptionResnetV2 aj pri datasete s počtom fotiek 23000?**\n",
    "\n",
    "- **Q2: Pokiaľ natrénujeme od nuly vlastný model neurónovej siete, budeme schopní dosiahnúť podobné výsledky ako známe architektúry InceptionResnetV2, či DenseNet121?**\n"
   ]
  },
  {
   "cell_type": "markdown",
   "metadata": {
    "colab_type": "text",
    "id": "q6SlMVihQRyF"
   },
   "source": [
    "## Existujúce práce\n",
    "Viaceré články [1, 2, 4, 5] sa zaoberali klasifikáciou odpadu pomocou neurónových sietí . V článku [3] pri klasifikácií skúsili iný prístup, a to pomocou algoritmu SIFT, ktorý sa ukázal ako vhodný, v prípade rôznorodého pozadia. Hlavný problém v tejto oblasti predstavuje hlavne nedostatočný počet dát. Najpoužívanejším datasetom je trashNet (2527 obrázkov rozdelených do 6 tried), ktorý bol využitý aj v prácach [2] a [5]. V práci [2] pomocou modelu s architektúrou MobileNet dosiahli na trashNete presnosť 87.2%. Na druhú stranu, na tom istom datasete v práci [5] testovali viaceré architektúry neurónových sietí ako DenseNet121, DenseNet169, InceptionResnetV2, MobileNet, Xception. Najlepšie výsledky dosiahli pomocou architektúry DenseNet121 s presnosťou 95%."
   ]
  },
  {
   "cell_type": "markdown",
   "metadata": {
    "colab_type": "text",
    "id": "ZJo5E43AQVaB"
   },
   "source": [
    "## Datasety\n",
    "V tejto oblasti sa nám podarilo nájsť len dva datasety [8, 9]. Pričom najviac používaný je dataset trashNet s počtom obŕazkov približne 2500 [9]. Na tomto datasete v práci [5] dokázali s 95% presnosťou klasifikovať odpad do tried sklo, plast, papier, kov a kartón. My sme sa rozhodli ich zistenia aplikovať na dataset [8], ktorý pozostáva približne z 23000 obrázkov pričom je okategorizovaný dvoma triedami:\n",
    "- organický a\n",
    "- neorganický (recyklovatelný) odpad."
   ]
  },
  {
   "cell_type": "markdown",
   "metadata": {
    "colab_type": "text",
    "id": "tZFRqDUxQYg8"
   },
   "source": [
    "## Návrh riešenia\n",
    "\n",
    "Na riešnie problému najprv použijeme existujúce modely využívajúce architektúry InceptionResnetV2 a DenseNet121. Následne pomocou transfer learningu sa pokúsime kategorizovať odpad to dvoch tried (recyklovatelný a organický). Nakoniec, navrhneme vlastnú architektúru konvolučnej neurónovej siete (CNN), ktorú porovnáme s výsledkami vhľadom na existujúce architektúry. \n",
    "\n",
    "### Postup\n",
    "1. Dáta [8] si rozdelíme na trénovaciu, validáčnú a testovaciu sadu.\n",
    "2. Použitím transfer learningu dotrénujeme modely architektúr InceptionResnetV2 a DenseNet121. \n",
    "3. Modely vyhodnotíme a zodpovieme Q1.\n",
    "4. Vytvoríme vlastnú architektúru CNN a model natrénujeme na datasete [8]. \n",
    "5. Model vyhodnotíme a zodpovieme Q2.\n",
    "\n",
    "V prípade slabej úspešnosti sa pokúsime obohatiť dataset [8] o obrázky z datasetu [9].\n",
    "\n",
    "\n"
   ]
  },
  {
   "cell_type": "markdown",
   "metadata": {
    "colab_type": "text",
    "id": "GmRVyiT4H-yE"
   },
   "source": [
    "## Zdroje\n",
    "\n",
    "[1] G. Chen, H. Wang and J. Zheng, \"Application of Image Recognition Technology in Garbage Classification Education Platform,\" 2019 5th International Conference on Control, Automation and Robotics (ICCAR), Beijing, China, 2019, pp. 290-294.\n",
    "doi: 10.1109/ICCAR.2019.8813481\n",
    "\n",
    "[2] S. L. Rabano, M. K. Cabatuan, E. Sybingco, E. P. Dadios and E. J. Calilung, \"Common Garbage Classification Using MobileNet,\" 2018 IEEE 10th International Conference on Humanoid, Nanotechnology, Information Technology,Communication and Control, Environment and Management (HNICEM), Baguio City, Philippines, 2018, pp. 1-4.\n",
    "doi: 10.1109/HNICEM.2018.8666300\n",
    "\n",
    "[3] W. Setiawan, A. Wahyudin and G. R. Widianto, \"The use of scale invariant feature transform (SIFT) algorithms to identification garbage images based on product label,\" 2017 3rd International Conference on Science in Information Technology (ICSITech), Bandung, 2017, pp. 336-341.\n",
    "doi: 10.1109/ICSITech.2017.8257135\n",
    "\n",
    "[4] C. Zhihong, Z. Hebin, W. Yanbo, L. Binyan and L. Yu, \"A vision-based robotic grasping system using deep learning for garbage sorting,\" 2017 36th Chinese Control Conference (CCC), Dalian, 2017, pp. 11223-11226.\n",
    "doi: 10.23919/ChiCC.2017.8029147\n",
    "\n",
    "[5] R. A. Aral, Ş. R. Keskin, M. Kaya and M. Hacıömeroğlu, \"Classification of TrashNet Dataset Based on Deep Learning Models,\" 2018 IEEE International Conference on Big Data (Big Data), Seattle, WA, USA, 2018, pp. 2058-2062.\n",
    "doi: 10.1109/BigData.2018.8622212\n",
    "\n",
    "[6] Generation of waste by waste category\t https://ec.europa.eu/eurostat/tgm/refreshTableAction.do?tab=table&plugin=1&pcode=ten00108&language=en\n",
    "\n",
    "[7] Recycling rate of municipal waste https://ec.europa.eu/eurostat/tgm/table.do;jsessionid=9NfjbF_FygohKRFGrq5-0hLvHt9D1iP-0AL8QdXMdpIxKGX0LABW!-755574875?tab=table&plugin=1&language=en&pcode=cei_wm011\n",
    "\n",
    "[8] Waste Classification data [Dostupné dňa: 15.10.2019] https://www.kaggle.com/techsash/waste-classification-data\n",
    "\n",
    "[9] TrashNet https://www.kaggle.com/asdasdasasdas/garbage-classification/\n",
    "\n",
    "[10] The World’s Garbage Problem – What You Need to Know, LAST UPDATED: MARCH 28, 2019, https://www.rootwell.com/blogs/worlds-garbage-problem"
   ]
  },
  {
   "cell_type": "code",
   "execution_count": null,
   "metadata": {},
   "outputs": [],
   "source": []
  }
 ],
 "metadata": {
  "colab": {
   "collapsed_sections": [],
   "name": "proposal.ipynb",
   "provenance": [],
   "toc_visible": true
  },
  "kernelspec": {
   "display_name": "Python 3",
   "language": "python",
   "name": "python3"
  },
  "language_info": {
   "codemirror_mode": {
    "name": "ipython",
    "version": 3
   },
   "file_extension": ".py",
   "mimetype": "text/x-python",
   "name": "python",
   "nbconvert_exporter": "python",
   "pygments_lexer": "ipython3",
   "version": "3.6.8"
  }
 },
 "nbformat": 4,
 "nbformat_minor": 1
}
