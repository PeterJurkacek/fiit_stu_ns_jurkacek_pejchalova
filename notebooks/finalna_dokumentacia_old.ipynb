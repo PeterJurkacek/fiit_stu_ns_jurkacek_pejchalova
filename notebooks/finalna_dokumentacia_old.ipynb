{
 "cells": [
  {
   "cell_type": "markdown",
   "metadata": {
    "colab_type": "text",
    "id": "hkJ760kZCYio"
   },
   "source": [
    "# Návrh zadania\n",
    "\n",
    "Nami navrhnuté zadanie je v skratke možné definovať nasledujúcimi bodmi:\n",
    "\n",
    "- Oblasť počítačového videnia využitá na recykláciu odpadu.\n",
    "- Navrhnutý model bude schopný rozpoznávať recyklovateľný odpad a bioodpad.\n",
    "- Budeme pracovať s netriviálnou modalitou, t.j. obrázkovým datasetom.\n",
    "\n",
    "### **Autori:**\n",
    ">Peter **JURKÁČEK**\n",
    "\n",
    ">Lenka **PEJCHALOVÁ**"
   ]
  },
  {
   "cell_type": "markdown",
   "metadata": {
    "colab_type": "text",
    "id": "S79WzbpRCpJD"
   },
   "source": [
    "### **Motivácia**\n",
    "\n",
    "Motivácia\n",
    "Zo všetkých strán sa na nás valia informácie o neúmernom množstve odpadu, ktoré ľudstvo denne vyprodukuje [9]. Veľké množstvo tohto odpadu by bolo možné opakovane spracovať a znova využiť. Na to, aby sa odpad mohol znova využiť je však potrebné, odpad roztriediť. Práve to je najväčším problémom dnešnej doby. Veľké množstvo neroztriedeného odpadu, ktoré je vyvážané na skládky, kde sa postupom času všetky nezdravé látky ohrozujú naše životné prostredie. Separovanie odpadu je jedným z najlepších spôsobov, ako môžeme pomôcť nie len životnému prostrediu, ale zlepšiť aj kvalitu nášho života.\n",
    "\n",
    "Aj keď separovanie odpadu pre človeka nie je žiadna raketová veda, tak je to činnosť, ktorú musí vykonávať manuálne. Podľa [7] môžeme vidieť rastúci trend v separovaní odpadu na Slovensku, kedže v roku 2015 separovalo 14.9% obyvateľov, v roku 2016 23% a v roku 2017 29%. Na druhú stranu, čo sa týka zmiešaného odpadu tak Slovensko sa v jeho produkcii pohybuje okolo 1.7 milióna ton ročne [6].\n",
    "\n",
    "Aby sme podporili rastúci trend separovania na Slovensku a prispeli k zníženiu produkcie zmiešaného odpadu rozhodli sme sa implementovať model, ktorý bude schopný klasifikovať obrázky odpadu pomocou neurónových sietí. Takýto model by mal využitie najmä na skládkach odpadu, kde by mohol vykonávať automatickú separáciu odpadu. Automatická separácia by znamenala zefektívnenie triediaceho procesu a zníženie hygienických rizík, ktorým sú vystavení pracovníci skládky.\n",
    "\n",
    "Navrhnutý model by mal byť schopný klasifikovať odpad z obrázku na dve kategórie, ktorými sú: organický a neorganický (recyklovateľný) odpad. Budeme pracovať s datasetom obsahujúcim približne 23000 obrázkov.\n",
    "\n",
    "V oblasti triedenia odpadu bolo dokázané [2] na dátovej sade cca 2500 obrázkov, že neurónové siete sú vhodným modelom pri automatickej klasifikácií odpadu na plast, sklo, papier, kov a kartón.\n",
    "\n",
    "Nateraz sa nám teda ponúkajú dve otvorené otázky, ktorými sú:\n",
    "\n",
    "- **Q1: Dosiahneme presnosť klasifikácie okolo 90% použitím overených architektúr DenseNet121 alebo InceptionResnetV2 aj pri datasete s počtom fotiek 23000?**\n",
    "\n",
    "- **Q2: Pokiaľ natrénujeme od nuly vlastný model neurónovej siete, budeme schopní dosiahnúť podobné výsledky ako známe architektúry InceptionResnetV2, či DenseNet121?**"
   ]
  },
  {
   "cell_type": "markdown",
   "metadata": {
    "colab_type": "text",
    "id": "Y-xjf4sADTW3"
   },
   "source": [
    "### **Existujúce práce**\n",
    "\n",
    "Viaceré články [1, 2, 4, 5] sa zaoberali klasifikáciou odpadu pomocou neurónových sietí . V článku [3] pri klasifikácií skúsili iný prístup, a to pomocou algoritmu SIFT, ktorý sa ukázal ako vhodný, v prípade rôznorodého pozadia. Hlavný problém v tejto oblasti predstavuje hlavne nedostatočný počet dát. Najpoužívanejším datasetom je trashNet (2527 obrázkov rozdelených do 6 tried), ktorý bol využitý aj v prácach [2] a [5]. V práci [2] pomocou modelu s architektúrou MobileNet dosiahli na trashNete presnosť 87.2%. Na druhú stranu, na tom istom datasete v práci [5] testovali viaceré architektúry neurónových sietí ako DenseNet121, DenseNet169, InceptionResnetV2, MobileNet, Xception. Najlepšie výsledky dosiahli pomocou architektúry DenseNet121 s presnosťou 95%."
   ]
  },
  {
   "cell_type": "markdown",
   "metadata": {
    "colab_type": "text",
    "id": "T0EMqS_M3hqT"
   },
   "source": [
    "# Dátová analýza\n",
    "\n",
    "Návrh zadania projektu je dostupný [online](https://github.com/PeterJurkacek/fiit_stu_ns_jurkacek_pejchalova/blob/master/notebooks/proposal.ipynb)\n",
    "\n",
    "Repozitár projektu je dostupný na tomto [odkaze](https://github.com/PeterJurkacek/fiit_stu_ns_jurkacek_pejchalova)\n",
    "\n",
    "> Peter Jurkáček\n",
    "\n",
    "> Lenka Pejchalová\n"
   ]
  },
  {
   "cell_type": "markdown",
   "metadata": {
    "colab_type": "text",
    "id": "kiztTCuP3lT1"
   },
   "source": [
    "Celá dátová množina obsahuje viac ako  25 000 obrázkov odpadu. Obrázky sú rozdelené na dve množiny, ktorými sú organický a recyklovateľný odpad. Obsahom organického odpadu sú obrázky zeleniny, ovocia, či dokonca listov, kvetín, trávy a rôzne druhy potravín a jedál. "
   ]
  },
  {
   "cell_type": "markdown",
   "metadata": {
    "colab_type": "text",
    "id": "2jnBWrEVTG0K"
   },
   "source": [
    "![Organický odpad](https://i.imgur.com/kJrUKeu.jpg)\n",
    "\n",
    "                                                              Obrázok 1. Organický odpad\n",
    "\n",
    "\n"
   ]
  },
  {
   "cell_type": "markdown",
   "metadata": {
    "colab_type": "text",
    "id": "5gn8KbmUTKsF"
   },
   "source": [
    "Recyklovateľný odpad pozostáva z obrázkov látok ako sú rôzne formy papiera (kartón, noviny, časopisy, knihy, vreckovky, skartovaný papier, obálky, a pod.), rôznej formy a tvary plastov (slamky, fľaše, poháre, tašky, atď) a tiež kovového odpadu v podobe plechoviek, príborov a hrncov, či skleneného odpadu v podobe fliaš alebo pohárov. Obrázok 2 zobrazuje vzorové obrázky recyklovateľného odpadu."
   ]
  },
  {
   "cell_type": "markdown",
   "metadata": {
    "colab_type": "text",
    "id": "qxu7QMHhTbte"
   },
   "source": [
    "![Recyklovateľný odpad](https://i.imgur.com/QbReLM6.jpg)\n",
    "\n",
    "\n",
    "                                                              Obrázok 2. Recyklovateľný odpad\n"
   ]
  },
  {
   "cell_type": "markdown",
   "metadata": {
    "colab_type": "text",
    "id": "HkeP5VmDhIUb"
   },
   "source": [
    "Natrénovaný model by mal byť schopný naučiť sa rozoznávať odpad na základe materiálu a tiež tvaru. Práve toto je možné vďaka rozmanitosti obrázkov z dátovej množiny. Množina obsahuje viacero obrázkov pre jeden typ odpadu z rôznych uhlov a tiež aj v rôznych farbách. Ako vhodný príklad môžeme uviesť plastovú fľašu, ktorá môže mať okrem veľkostí a farieb aj viacero podôb. Okrem klasickej podoby môže byť fľaša defromovaná do rôznych tvarov. (viď Obrázok 4.) Okrem rôznych tvarov obsahuje naša dátová množina aj deformácie odpadu. V kategórii organického odpadu ide napríklad o zhnité ovocie, či zeleninu a v kategórii recyklovateľného odpadu sú to rôzne deformácie tvaru."
   ]
  },
  {
   "cell_type": "markdown",
   "metadata": {
    "colab_type": "text",
    "id": "GXGjANUPivrD"
   },
   "source": [
    "![Deformácia plastovej fľaše](https://i.imgur.com/jibQPSX.jpg)\n",
    "\n",
    "\n",
    "                                                              Obrázok 4. Deformácia plastovej fľaše\n"
   ]
  },
  {
   "cell_type": "markdown",
   "metadata": {
    "colab_type": "text",
    "id": "MU7_-8ZMTfM2"
   },
   "source": [
    "Kedže dátová množina bola vytvorená stiahnutím obrázkov z internetu pre jednotlivé kategórie, neobshahuje jednotnú štruktúru. Obrázky nie sú na bielom pozadí, ale v mnohých prípadoch práve na ľubovoľnom pozadí. Tento fakt by pre neurónovú sieť mohol byť mätúci, avšak v prípade úspešného naučenia sa, by mohol byť model využívaný na ľubovoľné obrázky odpadu."
   ]
  },
  {
   "cell_type": "markdown",
   "metadata": {
    "colab_type": "text",
    "id": "jwDtGjvDTs5R"
   },
   "source": [
    "![Náhodné pozadie na obrázku s odpadom](https://i.imgur.com/UqHB2Zs.jpg)\n",
    "\n",
    "\n",
    "                                                              Obrázok 4. Náhodné pozadie na obrázku s odpadom\n"
   ]
  },
  {
   "cell_type": "markdown",
   "metadata": {
    "colab_type": "text",
    "id": "ETHAtiMjTuWz"
   },
   "source": [
    "Vzhľadom na to, že ide o obrázky stiahnuté z internetu, ich rôznorodosť je naozaj veľká. Obrázky pre jednu kategóriu obsahujú okrem skutočných obrázkov z reálneho sveta, aj kreslené obrázky. Podľa nášho názoru by takéto obrázky mohli spôsobit problémy pri učení neurónovej siete, kedže naším hlavným zámerom je naučiť model neurónovej siete rozoznávať z obrázkov povrch odpadu zobrazeného na obrázku. Práve z tohto dôvodu sme sa rozhodli tieto kreslené obrázky z dátovej množiny vyradiť. Nasledujúci obrázok uvádza niekoľko kreslených obrázkov odpadu."
   ]
  },
  {
   "cell_type": "markdown",
   "metadata": {
    "colab_type": "text",
    "id": "aMY8tTAETykg"
   },
   "source": [
    "![Animovaný odpad](https://i.imgur.com/7WlAzOm.jpg)\n",
    "\n",
    "\n",
    "                                                              Obrázok 5. Kreslený odpad\n"
   ]
  },
  {
   "cell_type": "markdown",
   "metadata": {
    "colab_type": "text",
    "id": "i9Uq-VdGsvC3"
   },
   "source": [
    "Pri analýze sme identifikovali aj obrázky odpadu, kde sa nachádza viacero typov odpadu. V prípade učenia sa modelu na kombinácii viacerých typov odpadu by mohlo dôjsť k zhoršeniu učenia a následne výsledkov. Toto tvrdenie sa pokúsime potvrdiť, alebo vyvrátiť učením modelu na množine dát bez takýchto obrázkov a tiež aj na množine dát, ktorá ich bude obsahovať."
   ]
  },
  {
   "cell_type": "markdown",
   "metadata": {
    "colab_type": "text",
    "id": "bNzvtPu9t2oH"
   },
   "source": [
    "![Viaceré druhy odpadu](https://i.imgur.com/0ddogUi.jpg)\n",
    "\n",
    "\n",
    "                                                              Obrázok 6. Viaceré druhy odpadu\n"
   ]
  },
  {
   "cell_type": "markdown",
   "metadata": {
    "colab_type": "text",
    "id": "hH4lXLljT_3_"
   },
   "source": [
    "Veľkosť všetkých obrázkov je limitovaná na maximálne 225x225px. \n"
   ]
  },
  {
   "cell_type": "markdown",
   "metadata": {
    "colab_type": "text",
    "id": "cdYMZEmXS7SP"
   },
   "source": [
    "Štruktúra datasetu je prispôsobená pre potreby neurónovej siete a vyhodnotenie jej úspešnosti. Dataset je teda rozdelený na trénovaciu a testovaciu množinu v pomere približne 90:10. Obrázky sú následne rozdelené do priečinkov TEST a TRAIN, kde jednotlivé tiež obsahujú aj podpriečinky pre organický (O) a recyklovateľný odpad (R ). Každý z obrázkov má tiež vlastné označenie pozostávajúci v tvare (O|R)_X.jpg, kde písmená O a R označujú kategóriu a X je identifikačné číslo.\n",
    "\n",
    "\n"
   ]
  },
  {
   "cell_type": "markdown",
   "metadata": {
    "colab_type": "text",
    "id": "oRiNPSQrT1FA"
   },
   "source": [
    "    projekt/fiit_stu_ns_jurkacek_pejchalova/data/DATASET/TRAIN/O/O_1764.jpg\n",
    "    projekt/fiit_stu_ns_jurkacek_pejchalova/data/DATASET/TRAIN/R/R_3615.jpg\n",
    "    projekt/fiit_stu_ns_jurkacek_pejchalova/data/DATASET/TEST/R/R_581.jpg\n",
    "    projekt/fiit_stu_ns_jurkacek_pejchalova/data/DATASET/TEST/O/O_548.jpg"
   ]
  },
  {
   "cell_type": "markdown",
   "metadata": {
    "colab_type": "text",
    "id": "Dx1YQYxmEAYm"
   },
   "source": [
    "# Opis vykonaných experimentov\n"
   ]
  },
  {
   "cell_type": "code",
   "execution_count": 39,
   "metadata": {
    "colab": {},
    "colab_type": "code",
    "id": "WhH_MM4Z0sNE"
   },
   "outputs": [
    {
     "name": "stdout",
     "output_type": "stream",
     "text": [
      "The autoreload extension is already loaded. To reload it, use:\n",
      "  %reload_ext autoreload\n"
     ]
    }
   ],
   "source": [
    "%load_ext autoreload\n",
    "%autoreload 2"
   ]
  },
  {
   "cell_type": "code",
   "execution_count": 102,
   "metadata": {},
   "outputs": [],
   "source": [
    "from src.results_utils import experiment_hystory_table, plot_results\n",
    "from IPython.display import display\n",
    "import matplotlib.pyplot as plt\n",
    "plt.close('all')\n"
   ]
  },
  {
   "cell_type": "markdown",
   "metadata": {
    "colab_type": "text",
    "id": "Doi_YrW0vw92"
   },
   "source": [
    "## 0. Overenie implementovanej infraštruktúry projektu\n",
    "\n",
    "Aby sme otestovali validnosť našej infraštruktúry projektu rozhodli sme sa natrénovať model ResNet a našu navrhnutú architektúru CNN a Optimalizáciu hyperparametrov CNN na menšom datasete odvodenom z hlavného datasetu.\n"
   ]
  },
  {
   "cell_type": "markdown",
   "metadata": {
    "colab_type": "text",
    "id": "YwkNj22JvFOA"
   },
   "source": [
    "## 1. Poronvanie existujúcich architektúr s našou architektúrou \n",
    "V našom projekte sme sa rozhodli otestovať viaceré existujúce architektúry. Aby sme odpovedali na hypotézu 1 stiahli sme modely MobileNet, VGG16, ResNet50, DenseNet121 natrenované na datasete imagenet[ZDROJ] s 1000 tried. \n",
    "\n",
    "V tomto experimente sme pozorovali, či neurónovej sietí stačí poznať aký objekt sa nachádza na obrázku. Napríklad ak je na obrázku flaša neurónová sieť sa naučí, že sa zaraduje do triedy recyklovateľného odpadu. \n",
    "\n",
    "Na princípe transfer learningu sme dotrénovali stiahnuté modely na našej trénovacej sade 22564 obrázkov na klasifikáciu do dvoch tried(bioodpad, recyklovatelný odpad). Siete boli trénované v 10 epochách s veľkosťou dávky (angl. batch size) 64 obrázkov.\n",
    "\n",
    "Dotrénovanie prebiehalo len v rámci poslednej plne prepojenej vrstvy (angl. Dense layer) s počtom neurónov 1000. Týmto sme chceli zabezpečiť aby si sieť myslela, že výstup predikuje do objektov na ktorých bola natrénovaná. \n",
    "\n",
    "Výstupná vrstva pozostávala z 2 neurónov a aby sme videli s akou pravdepodobnosťou sieť klasifikuje do našich tried (O == Bio, R == Recyklovateľný odpad) použili sme aktivačnú funkciu \"softmax\".\n",
    "\n",
    "Výsledky existujúcich architektúr sú zobrazené nižšie (Naša architektúra je označená ako cnn)"
   ]
  },
  {
   "cell_type": "code",
   "execution_count": 116,
   "metadata": {},
   "outputs": [
    {
     "data": {
      "image/png": "[encoded data removed]",
      "text/plain": [
       "<Figure size 864x432 with 1 Axes>"
      ]
     },
     "metadata": {
      "needs_background": "light"
     },
     "output_type": "display_data"
    }
   ],
   "source": [
    "table_name, df = experiment_hystory_table(experiment_name='experiment_1_trainable_false', test=True)\n",
    "plot_results(df, table_name)"
   ]
  },
  {
   "cell_type": "code",
   "execution_count": 117,
   "metadata": {},
   "outputs": [
    {
     "data": {
      "image/png": "[encoded data removed]",
      "text/plain": [
       "<Figure size 864x432 with 1 Axes>"
      ]
     },
     "metadata": {
      "needs_background": "light"
     },
     "output_type": "display_data"
    }
   ],
   "source": [
    "table_name, df = experiment_hystory_table(experiment_name='experiment_1_trainable_false', test=False)\n",
    "plot_results(df, table_name)"
   ]
  },
  {
   "cell_type": "markdown",
   "source": [
    "Na obrázkoch môžeme pozorovať, že sieti DenseNet121 sa podarilo klasifikovať bio a recykovateľný odpad s úspešnosťou 93% na testovacej sade. \n",
    "Týmto sa nám podarilo odpovedať na 1. Otázku. VGG16 a Naša architektúra CNN dosiahli podobnú úspešnosť "
   ],
   "metadata": {
    "collapsed": false
   }
  },
  {
   "cell_type": "markdown",
   "metadata": {
    "pycharm": {
     "name": "#%% md\n"
    }
   },
   "source": [
    "## 2. Zvýšenie náročnosti klasifikácie\n",
    "Kedže výsledky ktoré sme dosi\n",
    "\n"
   ]
  },
  {
   "cell_type": "markdown",
   "source": [
    "## 3. Klasifikácia materiálu na animovaných obrázkoch\n",
    "Z hlavného datasetu sa nám podarilo vyfiltrovať vzorku animovaných obrázkov odpadu. \n",
    "Pre zaujímavosť sme sa rozhodli na tomto vytvorenom datasete otestovať našu architektúru konvolučnej neurónovej siete. "
   ],
   "metadata": {
    "collapsed": false
   }
  },
  {
   "cell_type": "code",
   "execution_count": 54,
   "metadata": {
    "scrolled": true
   },
   "outputs": [
    {
     "data": {
      "image/png": "[encoded data removed]",
      "text/plain": [
       "<Figure size 432x288 with 1 Axes>"
      ]
     },
     "metadata": {
      "needs_background": "light"
     },
     "output_type": "display_data"
    }
   ],
   "source": [
    "\n"
   ]
  },
  {
   "cell_type": "code",
   "execution_count": 59,
   "metadata": {},
   "outputs": [
    {
     "data": {
      "text/plain": [
       "<matplotlib.axes._subplots.AxesSubplot at 0x7f76ea4027f0>"
      ]
     },
     "execution_count": 59,
     "metadata": {},
     "output_type": "execute_result"
    },
    {
     "data": {
      "image/png": "[encoded data removed]",
      "text/plain": [
       "<Figure size 432x288 with 1 Axes>"
      ]
     },
     "metadata": {
      "needs_background": "light"
     },
     "output_type": "display_data"
    }
   ],
   "source": []
  },
  {
   "cell_type": "code",
   "execution_count": 61,
   "metadata": {},
   "outputs": [
    {
     "data": {
      "text/plain": [
       "<matplotlib.axes._subplots.AxesSubplot at 0x7f76e9dda9e8>"
      ]
     },
     "execution_count": 61,
     "metadata": {},
     "output_type": "execute_result"
    },
    {
     "data": {
      "image/png": "[encoded data removed]",
      "text/plain": [
       "<Figure size 432x288 with 1 Axes>"
      ]
     },
     "metadata": {
      "needs_background": "light"
     },
     "output_type": "display_data"
    }
   ],
   "source": [
    "df[columns].plot.hist(alpha=0.5)"
   ]
  },
  {
   "cell_type": "markdown",
   "metadata": {
    "colab_type": "text",
    "id": "aOJyhbdkD1L_"
   },
   "source": [
    "# Opis modelu neurónovej siete"
   ]
  },
  {
   "cell_type": "markdown",
   "metadata": {
    "colab_type": "text",
    "id": "-hlC12-bD5ma"
   },
   "source": [
    "# Opis trénovania modelu"
   ]
  },
  {
   "cell_type": "markdown",
   "metadata": {
    "colab_type": "text",
    "id": "TgOVcFe8ENa8"
   },
   "source": [
    "# Zhrnutie a analýza výsledkov z experimentov"
   ]
  },
  {
   "cell_type": "markdown",
   "metadata": {
    "colab_type": "text",
    "id": "zkepaDcx3HBH"
   },
   "source": [
    "### **Zdroje**\n",
    "\n",
    "[1] G. Chen, H. Wang and J. Zheng, \"Application of Image Recognition Technology in Garbage Classification Education Platform,\" 2019 5th International Conference on Control, Automation and Robotics (ICCAR), Beijing, China, 2019, pp. 290-294. doi: 10.1109/ICCAR.2019.8813481\n",
    "\n",
    "[2] S. L. Rabano, M. K. Cabatuan, E. Sybingco, E. P. Dadios and E. J. Calilung, \"Common Garbage Classification Using MobileNet,\" 2018 IEEE 10th International Conference on Humanoid, Nanotechnology, Information Technology,Communication and Control, Environment and Management (HNICEM), Baguio City, Philippines, 2018, pp. 1-4. doi: 10.1109/HNICEM.2018.8666300\n",
    "\n",
    "[3] W. Setiawan, A. Wahyudin and G. R. Widianto, \"The use of scale invariant feature transform (SIFT) algorithms to identification garbage images based on product label,\" 2017 3rd International Conference on Science in Information Technology (ICSITech), Bandung, 2017, pp. 336-341. doi: 10.1109/ICSITech.2017.8257135\n",
    "\n",
    "[4] C. Zhihong, Z. Hebin, W. Yanbo, L. Binyan and L. Yu, \"A vision-based robotic grasping system using deep learning for garbage sorting,\" 2017 36th Chinese Control Conference (CCC), Dalian, 2017, pp. 11223-11226. doi: 10.23919/ChiCC.2017.8029147\n",
    "\n",
    "[5] R. A. Aral, Ş. R. Keskin, M. Kaya and M. Hacıömeroğlu, \"Classification of TrashNet Dataset Based on Deep Learning Models,\" 2018 IEEE International Conference on Big Data (Big Data), Seattle, WA, USA, 2018, pp. 2058-2062. doi: 10.1109/BigData.2018.8622212\n",
    "\n",
    "[6] Generation of waste by waste category https://ec.europa.eu/eurostat/tgm/refreshTableAction.do?tab=table&plugin=1&pcode=ten00108&language=en\n",
    "\n",
    "[7] Recycling rate of municipal waste https://ec.europa.eu/eurostat/tgm/table.do;jsessionid=9NfjbF_FygohKRFGrq5-0hLvHt9D1iP-0AL8QdXMdpIxKGX0LABW!-755574875?tab=table&plugin=1&language=en&pcode=cei_wm011\n",
    "\n",
    "[8] Waste Classification data [Dostupné dňa: 15.10.2019] https://www.kaggle.com/techsash/waste-classification-data\n",
    "\n",
    "[9] TrashNet https://www.kaggle.com/asdasdasasdas/garbage-classification/\n",
    "\n",
    "[10] The World’s Garbage Problem – What You Need to Know, LAST UPDATED: MARCH 28, 2019, https://www.rootwell.com/blogs/worlds-garbage-problem"
   ]
  }
 ],
 "metadata": {
  "accelerator": "GPU",
  "colab": {
   "collapsed_sections": [],
   "name": "finalna_dokumentacia.ipynb",
   "provenance": [],
   "toc_visible": true
  },
  "kernelspec": {
   "display_name": "Python 3",
   "language": "python",
   "name": "python3"
  },
  "language_info": {
   "codemirror_mode": {
    "name": "ipython",
    "version": 3
   },
   "file_extension": ".py",
   "mimetype": "text/x-python",
   "name": "python",
   "nbconvert_exporter": "python",
   "pygments_lexer": "ipython3",
   "version": "3.6.8"
  },
  "pycharm": {
   "stem_cell": {
    "cell_type": "raw",
    "source": [],
    "metadata": {
     "collapsed": false
    }
   }
  }
 },
 "nbformat": 4,
 "nbformat_minor": 1
}